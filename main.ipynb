{
 "cells": [
  {
   "cell_type": "code",
   "execution_count": 88,
   "metadata": {},
   "outputs": [],
   "source": [
    "import soundfile # to read audio file\n",
    "import numpy as np\n",
    "import librosa # to extract speech features\n",
    "import glob\n",
    "import os\n",
    "import pickle # to save model after training\n",
    "import pandas as pd\n",
    "# import sklearn\n",
    "# from sklearn.ensemble import RandomForestClassifier\n",
    "# from sklearn.model_selection import train_test_split # for splitting training and testing\n",
    "# from sklearn.neural_network import MLPClassifier # multi-layer perceptron model\n",
    "# from sklearn.metrics import accuracy_score, f1_score # to measure how good we are\n",
    "\n"
   ]
  },
  {
   "cell_type": "code",
   "execution_count": 89,
   "metadata": {},
   "outputs": [],
   "source": [
    "#load data from csv files\n",
    "X_train = pd.read_csv(os.path.join(\"./prepared-data/\", \"X_train.csv\")).to_numpy()\n",
    "X_test = pd.read_csv(os.path.join(\"./prepared-data/\", \"X_test.csv\")).to_numpy()\n",
    "y_train = pd.read_csv(os.path.join(\"./prepared-data/\", \"y_train.csv\")).to_numpy()\n",
    "y_test = pd.read_csv(os.path.join(\"./prepared-data/\", \"y_test.csv\")).to_numpy()\n",
    "\n",
    "X_train = X_train[:,1:]\n",
    "X_test = X_test[:,1:]\n",
    "y_train = y_train[:,1]\n",
    "y_test = y_test[:,1]"
   ]
  },
  {
   "cell_type": "code",
   "execution_count": 90,
   "metadata": {},
   "outputs": [
    {
     "name": "stdout",
     "output_type": "stream",
     "text": [
      "accuracy 0.7055555555555556\n"
     ]
    }
   ],
   "source": [
    "# load the model from disk\n",
    "filename = \"trained-model/ada_classifier.model\"\n",
    "loaded_model = pickle.load(open(filename, 'rb'))\n",
    "result = loaded_model.score(X_test, y_test)\n",
    "print('accuracy', result)"
   ]
  },
  {
   "cell_type": "code",
   "execution_count": 94,
   "metadata": {},
   "outputs": [],
   "source": [
    "# # load the model from disk\n",
    "# X_train_cnn = X_train.reshape(X_train.shape[0],X_train.shape[1],1)\n",
    "# X_test_cnn = X_test.reshape(X_test.shape[0],X_test.shape[1],1)\n",
    "# filename = \"trained-model/cnn_classifier\"\n",
    "# loaded_cnn_model = keras.models.load_model(filename)\n",
    "# score, acc = loaded_cnn_model.evaluate(X_test_cnn, y_test)\n",
    "# ans = loaded_cnn_model(prepX[0].reshape(1,-1))\n",
    "# print(ans)"
   ]
  },
  {
   "cell_type": "code",
   "execution_count": 91,
   "metadata": {},
   "outputs": [],
   "source": [
    "def extract_feature(file_name, **kwargs):\n",
    "    mfcc = kwargs.get(\"mfcc\")\n",
    "    chroma = kwargs.get(\"chroma\")\n",
    "    mel = kwargs.get(\"mel\")\n",
    "    contrast = kwargs.get(\"contrast\")\n",
    "\n",
    "    if chroma or contrast:\n",
    "        X, sample_rate = librosa.load(file_name)\n",
    "        stft = np.abs(librosa.stft(X))\n",
    "    result = np.array([])\n",
    "\n",
    "    if mfcc:\n",
    "        mfccs = np.mean(librosa.feature.mfcc(y=X, sr=sample_rate, n_mfcc=40).T, axis=0)\n",
    "        result = np.hstack((result, mfccs))\n",
    "    if chroma:\n",
    "        chroma = np.mean(librosa.feature.chroma_stft(S=stft, sr=sample_rate).T,axis=0)\n",
    "        result = np.hstack((result, chroma))\n",
    "    if mel:\n",
    "        mel = np.mean(librosa.feature.melspectrogram(X, sr=sample_rate).T,axis=0)\n",
    "        result = np.hstack((result, mel))\n",
    "\n",
    "    return result\n",
    "\n",
    "\n",
    "def data_transformer(data_path):\n",
    "    prep_X = []\n",
    "    for file in glob.glob(data_path):\n",
    "        basename = os.path.basename(file)\n",
    "        features = extract_feature(file, mfcc=True, chroma=True, mel=True)\n",
    "        prep_X.append(features)\n",
    "    return prep_X\n",
    "\n",
    "data_path = \"test_audio/*.wav\"\n",
    "prepX = data_transformer(data_path)"
   ]
  },
  {
   "cell_type": "code",
   "execution_count": 93,
   "metadata": {},
   "outputs": [
    {
     "data": {
      "text/plain": [
       "array([1])"
      ]
     },
     "execution_count": 93,
     "metadata": {},
     "output_type": "execute_result"
    }
   ],
   "source": [
    "loaded_model.predict([prepX[0]])"
   ]
  }
 ],
 "metadata": {
  "kernelspec": {
   "display_name": "Python 3",
   "language": "python",
   "name": "python3"
  },
  "language_info": {
   "codemirror_mode": {
    "name": "ipython",
    "version": 3
   },
   "file_extension": ".py",
   "mimetype": "text/x-python",
   "name": "python",
   "nbconvert_exporter": "python",
   "pygments_lexer": "ipython3",
   "version": "3.6.10"
  }
 },
 "nbformat": 4,
 "nbformat_minor": 2
}
